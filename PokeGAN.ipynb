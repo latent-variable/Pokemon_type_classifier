{
 "cells": [
  {
   "cell_type": "markdown",
   "metadata": {},
   "source": [
    " # Generative Adversarial Networks\n",
    " Even though the priority of this project is to correctly classify pokemon into their respective types, as and added bonus we would also like to try to generate new pokemons using Generative Adversarial Networks(GANs).\n",
    " \n",
    "[Extended from Simple GAN](https://medium.com/datadriveninvestor/generative-adversarial-network-gan-using-keras-ce1c05cfdfd3)\n",
    " \n",
    " [complex gan](https://towardsdatascience.com/gan-by-example-using-keras-on-tensorflow-backend-1a6d515a60d0)"
   ]
  },
  {
   "cell_type": "code",
   "execution_count": 1,
   "metadata": {},
   "outputs": [],
   "source": [
    "import numpy as np\n",
    "import pandas as pd\n",
    "import matplotlib.pyplot as plt\n",
    "import tensorflow as tf\n",
    "from tqdm import tqdm\n",
    "import gc\n",
    "import cv2"
   ]
  },
  {
   "cell_type": "markdown",
   "metadata": {},
   "source": [
    "### Down scale all images make training easier"
   ]
  },
  {
   "cell_type": "code",
   "execution_count": 2,
   "metadata": {},
   "outputs": [],
   "source": [
    "# data = np.load(\"pokeWBG.npy\")\n",
    "# temp = []\n",
    "# # img = data[0]\n",
    "# # res = cv2.resize(img, dsize=(50, 50), interpolation=cv2.INTER_AREA)\n",
    "# # plt.imshow(res)\n",
    "# # res = cv2.resize(res, dsize=(100, 100), interpolation=cv2.INTER_CUBIC)\n",
    "# # plt.imshow(res)\n",
    "\n",
    "# for i in range(data.shape[0]):\n",
    "#     img = data[i]\n",
    "#     res = cv2.resize(img, dsize=(48, 48), interpolation=cv2.INTER_AREA)\n",
    "#     temp.append(res)\n",
    "\n",
    "# temp = np.array(temp)\n",
    "# print(temp.shape)\n",
    "# np.save(\"pokeWBGdownscaled.npy\", temp)"
   ]
  },
  {
   "cell_type": "markdown",
   "metadata": {},
   "source": [
    "### Read in data"
   ]
  },
  {
   "cell_type": "code",
   "execution_count": 3,
   "metadata": {},
   "outputs": [],
   "source": [
    "def load_data():\n",
    "    x_train = np.load(\"pokeWBGdownscaled.npy\")\n",
    "#     x_train = np.array(train[:,0].tolist()).astype('uint8')\n",
    "#     del train \n",
    "#     gc.collect()\n",
    "    #normalize all values\n",
    "    x_train = (x_train.astype('float32')- 127.5) / 127.5\n",
    "    return x_train"
   ]
  },
  {
   "cell_type": "code",
   "execution_count": 4,
   "metadata": {},
   "outputs": [],
   "source": [
    "def adam_optimizer():\n",
    "    #suggested in DCGAN Paper\n",
    "    return tf.keras.optimizers.Adam(lr=0.0002, beta_1=0.5)\n",
    "#     return tf.keras.optimizers.Adam()"
   ]
  },
  {
   "cell_type": "code",
   "execution_count": 5,
   "metadata": {},
   "outputs": [
    {
     "name": "stdout",
     "output_type": "stream",
     "text": [
      "WARNING:tensorflow:From /home/onil/anaconda3/lib/python3.7/site-packages/tensorflow/python/ops/resource_variable_ops.py:435: colocate_with (from tensorflow.python.framework.ops) is deprecated and will be removed in a future version.\n",
      "Instructions for updating:\n",
      "Colocations handled automatically by placer.\n",
      "_________________________________________________________________\n",
      "Layer (type)                 Output Shape              Param #   \n",
      "=================================================================\n",
      "dense (Dense)                (None, 9216)              930816    \n",
      "_________________________________________________________________\n",
      "leaky_re_lu (LeakyReLU)      (None, 9216)              0         \n",
      "_________________________________________________________________\n",
      "reshape (Reshape)            (None, 12, 12, 64)        0         \n",
      "_________________________________________________________________\n",
      "conv2d_transpose (Conv2DTran (None, 12, 12, 64)        102464    \n",
      "_________________________________________________________________\n",
      "leaky_re_lu_1 (LeakyReLU)    (None, 12, 12, 64)        0         \n",
      "_________________________________________________________________\n",
      "conv2d_transpose_1 (Conv2DTr (None, 24, 24, 32)        51232     \n",
      "_________________________________________________________________\n",
      "leaky_re_lu_2 (LeakyReLU)    (None, 24, 24, 32)        0         \n",
      "_________________________________________________________________\n",
      "conv2d_transpose_2 (Conv2DTr (None, 48, 48, 16)        12816     \n",
      "_________________________________________________________________\n",
      "leaky_re_lu_3 (LeakyReLU)    (None, 48, 48, 16)        0         \n",
      "_________________________________________________________________\n",
      "conv2d_transpose_3 (Conv2DTr (None, 48, 48, 3)         1203      \n",
      "=================================================================\n",
      "Total params: 1,098,531\n",
      "Trainable params: 1,098,531\n",
      "Non-trainable params: 0\n",
      "_________________________________________________________________\n"
     ]
    }
   ],
   "source": [
    "def create_generator():\n",
    "    dim = 12\n",
    "    depth = 64\n",
    "    \n",
    "    generator = tf.keras.Sequential()\n",
    "\n",
    "    # Must define the input shape in the first layer of the neural network\n",
    "    generator.add(tf.keras.layers.Dense(dim*dim*depth,input_dim=100))\n",
    "    generator.add(tf.keras.layers.LeakyReLU(alpha=0.2))\n",
    "    generator.add(tf.keras.layers.Reshape((dim, dim, depth)))\n",
    "#     generator.add(tf.keras.layers.BatchNormalization())\n",
    "\n",
    "    generator.add(tf.keras.layers.Conv2DTranspose(filters=int(depth),kernel_size=(5,5),strides = 1, padding='same'))\n",
    "    generator.add(tf.keras.layers.LeakyReLU(alpha=0.2))\n",
    "#     generator.add(tf.keras.layers.Dropout(0.3))\n",
    "    \n",
    "    generator.add(tf.keras.layers.Conv2DTranspose(filters=int(depth/2),kernel_size=(5,5),strides = 2, padding='same'))\n",
    "    generator.add(tf.keras.layers.LeakyReLU(alpha=0.2))\n",
    "    \n",
    "    generator.add(tf.keras.layers.Conv2DTranspose(filters=int(depth/4),kernel_size=(5,5),strides = 2, padding='same'))\n",
    "    generator.add(tf.keras.layers.LeakyReLU(alpha=0.2))\n",
    "\n",
    "    \n",
    "    generator.add(tf.keras.layers.Conv2DTranspose(filters=3, kernel_size=(5,5),strides =1, padding='same',activation='tanh'))\n",
    " \n",
    "    generator.compile(loss='binary_crossentropy', optimizer=adam_optimizer())\n",
    "    return generator\n",
    "\n",
    "g=create_generator()\n",
    "g.summary()"
   ]
  },
  {
   "cell_type": "code",
   "execution_count": 6,
   "metadata": {},
   "outputs": [
    {
     "name": "stdout",
     "output_type": "stream",
     "text": [
      "_________________________________________________________________\n",
      "Layer (type)                 Output Shape              Param #   \n",
      "=================================================================\n",
      "conv2d (Conv2D)              (None, 24, 24, 32)        2432      \n",
      "_________________________________________________________________\n",
      "conv2d_1 (Conv2D)            (None, 12, 12, 16)        12816     \n",
      "_________________________________________________________________\n",
      "conv2d_2 (Conv2D)            (None, 6, 6, 8)           1160      \n",
      "_________________________________________________________________\n",
      "flatten (Flatten)            (None, 288)               0         \n",
      "_________________________________________________________________\n",
      "dense_1 (Dense)              (None, 1)                 289       \n",
      "=================================================================\n",
      "Total params: 16,697\n",
      "Trainable params: 16,697\n",
      "Non-trainable params: 0\n",
      "_________________________________________________________________\n"
     ]
    }
   ],
   "source": [
    "def create_discriminator():\n",
    "    discriminator = tf.keras.Sequential()\n",
    "\n",
    "    # Must define the input shape in the first layer of the neural network\n",
    "    discriminator.add(tf.keras.layers.Conv2D(filters=32, kernel_size=(5,5),strides = 2, padding='same', input_shape=(48,48,3), activation = 'relu')) \n",
    "#     discriminator.add(tf.keras.layers.Dropout(0.3))\n",
    "\n",
    "    discriminator.add(tf.keras.layers.Conv2D(filters=16, kernel_size=(5,5),strides = 2, padding='same',activation = 'relu'))\n",
    "#     discriminator.add(tf.keras.layers.Dropout(0.3))\n",
    "       \n",
    "    discriminator.add(tf.keras.layers.Conv2D(filters=8, kernel_size=(3,3),strides = 2, padding='same',activation = 'relu'))\n",
    "#     discriminator.add(tf.keras.layers.Dropout(0.3))\n",
    "\n",
    "    discriminator.add(tf.keras.layers.Flatten())\n",
    "    \n",
    "   \n",
    "    discriminator.add(tf.keras.layers.Dense(units=1, activation='sigmoid'))\n",
    "#     discriminator.add(tf.keras.layers.Dropout(0.3))\n",
    "    \n",
    "    discriminator.compile(loss='binary_crossentropy', optimizer=adam_optimizer())\n",
    "    return discriminator\n",
    "\n",
    "d =create_discriminator()\n",
    "d.summary()"
   ]
  },
  {
   "cell_type": "code",
   "execution_count": 7,
   "metadata": {},
   "outputs": [
    {
     "name": "stdout",
     "output_type": "stream",
     "text": [
      "_________________________________________________________________\n",
      "Layer (type)                 Output Shape              Param #   \n",
      "=================================================================\n",
      "input_1 (InputLayer)         (None, 100)               0         \n",
      "_________________________________________________________________\n",
      "sequential (Sequential)      (None, 48, 48, 3)         1098531   \n",
      "_________________________________________________________________\n",
      "sequential_1 (Sequential)    (None, 1)                 16697     \n",
      "=================================================================\n",
      "Total params: 1,115,228\n",
      "Trainable params: 1,098,531\n",
      "Non-trainable params: 16,697\n",
      "_________________________________________________________________\n"
     ]
    }
   ],
   "source": [
    "def create_gan(discriminator, generator):\n",
    "    discriminator.trainable=False\n",
    "    gan_input = tf.keras.layers.Input(shape=(100,))\n",
    "    x = generator(gan_input)\n",
    "    gan_output= discriminator(x)\n",
    "    gan= tf.keras.Model(inputs=gan_input, outputs=gan_output)\n",
    "    gan.compile(loss='binary_crossentropy', optimizer=adam_optimizer())\n",
    "    return gan\n",
    "\n",
    "gan = create_gan(d,g)\n",
    "gan.summary()"
   ]
  },
  {
   "cell_type": "code",
   "execution_count": 8,
   "metadata": {},
   "outputs": [],
   "source": [
    "def plot_generated_images(epoch, generator, examples=100, dim=(10,10), figsize=(50,50)):\n",
    "    plt.ioff()\n",
    "    noise= np.random.normal(loc=0, scale=1, size=[examples, 100])\n",
    "    generated_images = generator.predict(noise)\n",
    "    generated_images = generated_images.reshape(100,48,48,3)\n",
    "    fig = plt.figure(figsize=figsize)\n",
    "    for i in range(generated_images.shape[0]):\n",
    "        plt.subplot(dim[0], dim[1], i+1)\n",
    "        img = (generated_images[i]*127.5 + 127.5).astype('uint8')\n",
    "        plt.imshow(img)\n",
    "        plt.axis('off')\n",
    "\n",
    "    plt.tight_layout()\n",
    "    plt.savefig('GAN/gan_generated_pokemos-%d.png' %epoch,bbox_inches='tight')\n",
    "    plt.close(fig)"
   ]
  },
  {
   "cell_type": "code",
   "execution_count": 9,
   "metadata": {},
   "outputs": [],
   "source": [
    "def shuffle_data(a,b):\n",
    "    c = []\n",
    "    for i in range(len(a)):\n",
    "        c.append([a[i],b[i]])\n",
    "    \n",
    "    c = np.array(c) \n",
    "    np.random.shuffle(c)\n",
    "    a = np.array(c[:,0].tolist())\n",
    "    b = c[:,1]\n",
    "    return a, b"
   ]
  },
  {
   "cell_type": "code",
   "execution_count": null,
   "metadata": {
    "scrolled": true
   },
   "outputs": [
    {
     "name": "stderr",
     "output_type": "stream",
     "text": [
      "\r",
      "  0%|          | 0/128 [00:00<?, ?it/s]"
     ]
    },
    {
     "name": "stdout",
     "output_type": "stream",
     "text": [
      "Epoch 1\n",
      "WARNING:tensorflow:From /home/onil/anaconda3/lib/python3.7/site-packages/tensorflow/python/ops/math_ops.py:3066: to_int32 (from tensorflow.python.ops.math_ops) is deprecated and will be removed in a future version.\n",
      "Instructions for updating:\n",
      "Use tf.cast instead.\n"
     ]
    },
    {
     "name": "stderr",
     "output_type": "stream",
     "text": [
      "100%|██████████| 128/128 [00:08<00:00, 15.17it/s]\n"
     ]
    },
    {
     "name": "stdout",
     "output_type": "stream",
     "text": [
      "(gan_loss=0.883861) (D_loss=0.741533) \n"
     ]
    },
    {
     "name": "stderr",
     "output_type": "stream",
     "text": [
      "  2%|▏         | 3/128 [00:00<00:05, 22.13it/s]"
     ]
    },
    {
     "name": "stdout",
     "output_type": "stream",
     "text": [
      "Epoch 2\n"
     ]
    },
    {
     "name": "stderr",
     "output_type": "stream",
     "text": [
      "100%|██████████| 128/128 [00:05<00:00, 21.44it/s]\n",
      "  2%|▏         | 3/128 [00:00<00:05, 21.96it/s]"
     ]
    },
    {
     "name": "stdout",
     "output_type": "stream",
     "text": [
      "(gan_loss=0.887108) (D_loss=0.44859) \n",
      "Epoch 3\n"
     ]
    },
    {
     "name": "stderr",
     "output_type": "stream",
     "text": [
      "100%|██████████| 128/128 [00:05<00:00, 21.46it/s]\n",
      "  2%|▏         | 2/128 [00:00<00:06, 19.93it/s]"
     ]
    },
    {
     "name": "stdout",
     "output_type": "stream",
     "text": [
      "(gan_loss=0.603416) (D_loss=0.741292) \n",
      "Epoch 4\n"
     ]
    },
    {
     "name": "stderr",
     "output_type": "stream",
     "text": [
      "100%|██████████| 128/128 [00:05<00:00, 22.02it/s]\n",
      "  2%|▏         | 3/128 [00:00<00:05, 21.68it/s]"
     ]
    },
    {
     "name": "stdout",
     "output_type": "stream",
     "text": [
      "(gan_loss=0.685671) (D_loss=0.70286) \n",
      "Epoch 5\n"
     ]
    },
    {
     "name": "stderr",
     "output_type": "stream",
     "text": [
      "100%|██████████| 128/128 [00:05<00:00, 22.40it/s]\n",
      "  2%|▏         | 3/128 [00:00<00:05, 22.33it/s]"
     ]
    },
    {
     "name": "stdout",
     "output_type": "stream",
     "text": [
      "(gan_loss=0.66495) (D_loss=0.69443) \n",
      "Epoch 6\n"
     ]
    },
    {
     "name": "stderr",
     "output_type": "stream",
     "text": [
      "100%|██████████| 128/128 [00:05<00:00, 22.13it/s]\n",
      "  2%|▏         | 3/128 [00:00<00:05, 22.00it/s]"
     ]
    },
    {
     "name": "stdout",
     "output_type": "stream",
     "text": [
      "(gan_loss=0.732873) (D_loss=0.654132) \n",
      "Epoch 7\n"
     ]
    },
    {
     "name": "stderr",
     "output_type": "stream",
     "text": [
      "100%|██████████| 128/128 [00:05<00:00, 22.31it/s]\n",
      "  2%|▏         | 3/128 [00:00<00:05, 21.90it/s]"
     ]
    },
    {
     "name": "stdout",
     "output_type": "stream",
     "text": [
      "(gan_loss=0.761307) (D_loss=0.695022) \n",
      "Epoch 8\n"
     ]
    },
    {
     "name": "stderr",
     "output_type": "stream",
     "text": [
      "100%|██████████| 128/128 [00:05<00:00, 22.20it/s]\n",
      "  2%|▏         | 3/128 [00:00<00:05, 21.65it/s]"
     ]
    },
    {
     "name": "stdout",
     "output_type": "stream",
     "text": [
      "(gan_loss=0.717042) (D_loss=0.695381) \n",
      "Epoch 9\n"
     ]
    },
    {
     "name": "stderr",
     "output_type": "stream",
     "text": [
      "100%|██████████| 128/128 [00:05<00:00, 22.23it/s]\n",
      "  2%|▏         | 3/128 [00:00<00:05, 21.52it/s]"
     ]
    },
    {
     "name": "stdout",
     "output_type": "stream",
     "text": [
      "(gan_loss=0.701464) (D_loss=0.689916) \n",
      "Epoch 10\n"
     ]
    },
    {
     "name": "stderr",
     "output_type": "stream",
     "text": [
      "100%|██████████| 128/128 [00:05<00:00, 22.24it/s]\n",
      "  2%|▏         | 3/128 [00:00<00:05, 20.86it/s]"
     ]
    },
    {
     "name": "stdout",
     "output_type": "stream",
     "text": [
      "(gan_loss=0.694244) (D_loss=0.6899) \n",
      "Epoch 11\n"
     ]
    },
    {
     "name": "stderr",
     "output_type": "stream",
     "text": [
      "100%|██████████| 128/128 [00:05<00:00, 22.31it/s]\n",
      "  2%|▏         | 3/128 [00:00<00:05, 22.46it/s]"
     ]
    },
    {
     "name": "stdout",
     "output_type": "stream",
     "text": [
      "(gan_loss=0.709783) (D_loss=0.692307) \n",
      "Epoch 12\n"
     ]
    },
    {
     "name": "stderr",
     "output_type": "stream",
     "text": [
      "100%|██████████| 128/128 [00:05<00:00, 22.31it/s]\n",
      "  2%|▏         | 3/128 [00:00<00:05, 21.73it/s]"
     ]
    },
    {
     "name": "stdout",
     "output_type": "stream",
     "text": [
      "(gan_loss=0.712351) (D_loss=0.693768) \n",
      "Epoch 13\n"
     ]
    },
    {
     "name": "stderr",
     "output_type": "stream",
     "text": [
      "100%|██████████| 128/128 [00:05<00:00, 22.32it/s]\n",
      "  2%|▏         | 3/128 [00:00<00:05, 21.91it/s]"
     ]
    },
    {
     "name": "stdout",
     "output_type": "stream",
     "text": [
      "(gan_loss=0.710684) (D_loss=0.69326) \n",
      "Epoch 14\n"
     ]
    },
    {
     "name": "stderr",
     "output_type": "stream",
     "text": [
      "100%|██████████| 128/128 [00:05<00:00, 22.35it/s]\n",
      "  2%|▏         | 3/128 [00:00<00:05, 22.29it/s]"
     ]
    },
    {
     "name": "stdout",
     "output_type": "stream",
     "text": [
      "(gan_loss=0.709619) (D_loss=0.693075) \n",
      "Epoch 15\n"
     ]
    },
    {
     "name": "stderr",
     "output_type": "stream",
     "text": [
      "100%|██████████| 128/128 [00:05<00:00, 22.29it/s]\n",
      "  2%|▏         | 3/128 [00:00<00:05, 22.24it/s]"
     ]
    },
    {
     "name": "stdout",
     "output_type": "stream",
     "text": [
      "(gan_loss=0.705564) (D_loss=0.693468) \n",
      "Epoch 16\n"
     ]
    },
    {
     "name": "stderr",
     "output_type": "stream",
     "text": [
      "100%|██████████| 128/128 [00:05<00:00, 22.28it/s]\n",
      "  2%|▏         | 3/128 [00:00<00:05, 22.21it/s]"
     ]
    },
    {
     "name": "stdout",
     "output_type": "stream",
     "text": [
      "(gan_loss=0.700351) (D_loss=0.69326) \n",
      "Epoch 17\n"
     ]
    },
    {
     "name": "stderr",
     "output_type": "stream",
     "text": [
      "100%|██████████| 128/128 [00:05<00:00, 22.36it/s]\n",
      "  2%|▏         | 3/128 [00:00<00:05, 21.79it/s]"
     ]
    },
    {
     "name": "stdout",
     "output_type": "stream",
     "text": [
      "(gan_loss=0.698906) (D_loss=0.693135) \n",
      "Epoch 18\n"
     ]
    },
    {
     "name": "stderr",
     "output_type": "stream",
     "text": [
      "100%|██████████| 128/128 [00:05<00:00, 22.35it/s]\n",
      "  2%|▏         | 3/128 [00:00<00:05, 22.60it/s]"
     ]
    },
    {
     "name": "stdout",
     "output_type": "stream",
     "text": [
      "(gan_loss=0.69764) (D_loss=0.693173) \n",
      "Epoch 19\n"
     ]
    },
    {
     "name": "stderr",
     "output_type": "stream",
     "text": [
      "100%|██████████| 128/128 [00:05<00:00, 22.47it/s]\n",
      "  2%|▏         | 3/128 [00:00<00:05, 22.49it/s]"
     ]
    },
    {
     "name": "stdout",
     "output_type": "stream",
     "text": [
      "(gan_loss=0.696603) (D_loss=0.693123) \n",
      "Epoch 20\n"
     ]
    },
    {
     "name": "stderr",
     "output_type": "stream",
     "text": [
      "100%|██████████| 128/128 [00:05<00:00, 22.44it/s]\n"
     ]
    },
    {
     "name": "stdout",
     "output_type": "stream",
     "text": [
      "(gan_loss=0.695664) (D_loss=0.693098) \n"
     ]
    },
    {
     "name": "stderr",
     "output_type": "stream",
     "text": [
      "  2%|▏         | 3/128 [00:00<00:06, 20.78it/s]"
     ]
    },
    {
     "name": "stdout",
     "output_type": "stream",
     "text": [
      "Epoch 21\n"
     ]
    },
    {
     "name": "stderr",
     "output_type": "stream",
     "text": [
      "100%|██████████| 128/128 [00:05<00:00, 22.39it/s]\n",
      "  2%|▏         | 3/128 [00:00<00:05, 21.76it/s]"
     ]
    },
    {
     "name": "stdout",
     "output_type": "stream",
     "text": [
      "(gan_loss=0.694835) (D_loss=0.692961) \n",
      "Epoch 22\n"
     ]
    },
    {
     "name": "stderr",
     "output_type": "stream",
     "text": [
      "100%|██████████| 128/128 [00:05<00:00, 22.42it/s]\n",
      "  2%|▏         | 3/128 [00:00<00:05, 21.08it/s]"
     ]
    },
    {
     "name": "stdout",
     "output_type": "stream",
     "text": [
      "(gan_loss=0.694403) (D_loss=0.693167) \n",
      "Epoch 23\n"
     ]
    },
    {
     "name": "stderr",
     "output_type": "stream",
     "text": [
      "100%|██████████| 128/128 [00:05<00:00, 22.39it/s]\n",
      "  2%|▏         | 3/128 [00:00<00:05, 22.42it/s]"
     ]
    },
    {
     "name": "stdout",
     "output_type": "stream",
     "text": [
      "(gan_loss=0.694281) (D_loss=0.693182) \n",
      "Epoch 24\n"
     ]
    },
    {
     "name": "stderr",
     "output_type": "stream",
     "text": [
      "100%|██████████| 128/128 [00:05<00:00, 22.65it/s]\n",
      "  2%|▏         | 3/128 [00:00<00:05, 22.48it/s]"
     ]
    },
    {
     "name": "stdout",
     "output_type": "stream",
     "text": [
      "(gan_loss=0.693955) (D_loss=0.693175) \n",
      "Epoch 25\n"
     ]
    },
    {
     "name": "stderr",
     "output_type": "stream",
     "text": [
      "100%|██████████| 128/128 [00:05<00:00, 22.78it/s]\n",
      "  2%|▏         | 3/128 [00:00<00:05, 22.48it/s]"
     ]
    },
    {
     "name": "stdout",
     "output_type": "stream",
     "text": [
      "(gan_loss=0.69374) (D_loss=0.693134) \n",
      "Epoch 26\n"
     ]
    },
    {
     "name": "stderr",
     "output_type": "stream",
     "text": [
      " 49%|████▉     | 63/128 [00:02<00:02, 22.83it/s]"
     ]
    }
   ],
   "source": [
    "def training(epochs=1, batch_size=128):\n",
    "    \n",
    "    \n",
    "    (X_train) = load_data()\n",
    "    batch_count = X_train.shape[0] / batch_size\n",
    "    \n",
    "    # Creating GAN\n",
    "    generator= create_generator()\n",
    "#     generator = tf.keras.models.load_model('generator_model.h5')\n",
    "    discriminator= create_discriminator()\n",
    "    gan = create_gan(discriminator, generator)\n",
    "    \n",
    "    for e in range(1,epochs+1 ):\n",
    "        print(\"Epoch %d\" %e)\n",
    "        \n",
    "        d_loss = 0\n",
    "        gan_loss = 0\n",
    "        for _ in tqdm(range(batch_size)):\n",
    "        #generate  random noise as an input  to  initialize the  generator\n",
    "            noise= np.random.normal(0,1, [batch_size,100])\n",
    "            \n",
    "            # Generate fake pokemon images from noised input\n",
    "            generated_images = generator.predict(noise)\n",
    "            \n",
    "            # Get a random set of  real images\n",
    "            image_batch =X_train[np.random.randint(low=0,high=X_train.shape[0],size=batch_size)]\n",
    "            \n",
    "            #Construct different batches of  real and fake data \n",
    "            X= np.concatenate([image_batch, generated_images])\n",
    "            \n",
    "            # Labels for generated and real data\n",
    "            y_dis=np.zeros(2*batch_size)\n",
    "            y_dis[:batch_size]=1\n",
    "\n",
    "            \n",
    "            #X,y_dis = shuffle_data(X,y_dis)\n",
    "            #Pre train discriminator on  fake and real data  before starting the gan. \n",
    "            discriminator.trainable=True\n",
    "            d_loss = discriminator.train_on_batch(X, y_dis)\n",
    "            \n",
    "            #Tricking the noised input of the Generator as real data\n",
    "            noise= np.random.normal(0,1, [batch_size, 100])\n",
    "            y_gen = np.ones(batch_size)\n",
    "            \n",
    "            # During the training of gan, \n",
    "            # the weights of discriminator should be fixed. \n",
    "            #We can enforce that by setting the trainable flag\n",
    "            discriminator.trainable=False\n",
    "            \n",
    "            #training  the GAN by alternating the training of the Discriminator \n",
    "            #and training the chained GAN model with Discriminator’s weights freezed.\n",
    "            gan_loss = gan.train_on_batch(noise, y_gen)\n",
    "            \n",
    "        print('(gan_loss=%g) (D_loss=%g) ' % (gan_loss,  d_loss))\n",
    "            \n",
    "        if e == 1 or e % 20 == 0:\n",
    "            generator.save('generator_model.h5')\n",
    "            plot_generated_images(e, generator)\n",
    "            \n",
    "            \n",
    "training(10000,128)"
   ]
  },
  {
   "cell_type": "code",
   "execution_count": null,
   "metadata": {},
   "outputs": [],
   "source": [
    "generator = tf.keras.models.load_model('generator_model.h5')\n",
    "noise= np.random.normal(0,1, [10,100])\n",
    "# noise = np.zeros([10,100])\n",
    "print(noise.shape)\n",
    "# Generate fake pokemon images from noised input\n",
    "generated_images = generator.predict(noise)"
   ]
  },
  {
   "cell_type": "code",
   "execution_count": 46,
   "metadata": {},
   "outputs": [
    {
     "data": {
      "text/plain": [
       "<matplotlib.image.AxesImage at 0x7f2fa43cd0b8>"
      ]
     },
     "execution_count": 46,
     "metadata": {},
     "output_type": "execute_result"
    },
    {
     "data": {
      "image/png": "[encoded data removed]",
      "text/plain": [
       "<Figure size 432x288 with 1 Axes>"
      ]
     },
     "metadata": {
      "needs_background": "light"
     },
     "output_type": "display_data"
    }
   ],
   "source": [
    "img = (generated_images[8]*127.5 + 127.5).astype('uint8')\n",
    "img = cv2.resize(img, dsize=(100, 100), interpolation=cv2.INTER_CUBIC)\n",
    "plt.imshow(img)"
   ]
  },
  {
   "cell_type": "code",
   "execution_count": null,
   "metadata": {},
   "outputs": [],
   "source": []
  }
 ],
 "metadata": {
  "kernelspec": {
   "display_name": "Python 3",
   "language": "python",
   "name": "python3"
  },
  "language_info": {
   "codemirror_mode": {
    "name": "ipython",
    "version": 3
   },
   "file_extension": ".py",
   "mimetype": "text/x-python",
   "name": "python",
   "nbconvert_exporter": "python",
   "pygments_lexer": "ipython3",
   "version": "3.7.3"
  }
 },
 "nbformat": 4,
 "nbformat_minor": 2
}
