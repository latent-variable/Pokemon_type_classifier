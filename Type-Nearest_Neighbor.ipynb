{
 "cells": [
  {
   "cell_type": "markdown",
   "metadata": {},
   "source": [
    "## Nearest Neighbor\n",
    "We will project our data onto a space and then use the nearest neighbor algorithm to see if we can classify distinct clusters as certain types."
   ]
  },
  {
   "cell_type": "code",
   "execution_count": 122,
   "metadata": {},
   "outputs": [],
   "source": [
    "## code\n",
    "import pandas as pd\n",
    "import math, sys, copy\n",
    "import matplotlib.pyplot as plt"
   ]
  },
  {
   "cell_type": "code",
   "execution_count": 2,
   "metadata": {},
   "outputs": [
    {
     "data": {
      "text/html": [
       "<div>\n",
       "<style scoped>\n",
       "    .dataframe tbody tr th:only-of-type {\n",
       "        vertical-align: middle;\n",
       "    }\n",
       "\n",
       "    .dataframe tbody tr th {\n",
       "        vertical-align: top;\n",
       "    }\n",
       "\n",
       "    .dataframe thead th {\n",
       "        text-align: right;\n",
       "    }\n",
       "</style>\n",
       "<table border=\"1\" class=\"dataframe\">\n",
       "  <thead>\n",
       "    <tr style=\"text-align: right;\">\n",
       "      <th></th>\n",
       "      <th>id</th>\n",
       "      <th>Name</th>\n",
       "      <th>Type 1</th>\n",
       "      <th>Type 2</th>\n",
       "      <th>Generation</th>\n",
       "      <th>height</th>\n",
       "      <th>weight</th>\n",
       "      <th>base_experience</th>\n",
       "      <th>hp</th>\n",
       "      <th>attack</th>\n",
       "      <th>defense</th>\n",
       "      <th>speed</th>\n",
       "      <th>special-attack</th>\n",
       "      <th>special-defense</th>\n",
       "    </tr>\n",
       "  </thead>\n",
       "  <tbody>\n",
       "    <tr>\n",
       "      <th>0</th>\n",
       "      <td>1</td>\n",
       "      <td>bulbasaur</td>\n",
       "      <td>grass</td>\n",
       "      <td>poison</td>\n",
       "      <td>1</td>\n",
       "      <td>0.7</td>\n",
       "      <td>6.9</td>\n",
       "      <td>64</td>\n",
       "      <td>45</td>\n",
       "      <td>49</td>\n",
       "      <td>49</td>\n",
       "      <td>45</td>\n",
       "      <td>65</td>\n",
       "      <td>65</td>\n",
       "    </tr>\n",
       "    <tr>\n",
       "      <th>1</th>\n",
       "      <td>2</td>\n",
       "      <td>ivysaur</td>\n",
       "      <td>grass</td>\n",
       "      <td>poison</td>\n",
       "      <td>1</td>\n",
       "      <td>1.0</td>\n",
       "      <td>13.0</td>\n",
       "      <td>142</td>\n",
       "      <td>60</td>\n",
       "      <td>62</td>\n",
       "      <td>63</td>\n",
       "      <td>60</td>\n",
       "      <td>80</td>\n",
       "      <td>80</td>\n",
       "    </tr>\n",
       "    <tr>\n",
       "      <th>2</th>\n",
       "      <td>3</td>\n",
       "      <td>venusaur</td>\n",
       "      <td>grass</td>\n",
       "      <td>poison</td>\n",
       "      <td>1</td>\n",
       "      <td>2.0</td>\n",
       "      <td>100.0</td>\n",
       "      <td>236</td>\n",
       "      <td>80</td>\n",
       "      <td>82</td>\n",
       "      <td>83</td>\n",
       "      <td>80</td>\n",
       "      <td>100</td>\n",
       "      <td>100</td>\n",
       "    </tr>\n",
       "    <tr>\n",
       "      <th>3</th>\n",
       "      <td>4</td>\n",
       "      <td>charmander</td>\n",
       "      <td>fire</td>\n",
       "      <td>NaN</td>\n",
       "      <td>1</td>\n",
       "      <td>0.6</td>\n",
       "      <td>8.5</td>\n",
       "      <td>62</td>\n",
       "      <td>39</td>\n",
       "      <td>52</td>\n",
       "      <td>43</td>\n",
       "      <td>65</td>\n",
       "      <td>60</td>\n",
       "      <td>50</td>\n",
       "    </tr>\n",
       "    <tr>\n",
       "      <th>4</th>\n",
       "      <td>5</td>\n",
       "      <td>charmeleon</td>\n",
       "      <td>fire</td>\n",
       "      <td>NaN</td>\n",
       "      <td>1</td>\n",
       "      <td>1.1</td>\n",
       "      <td>19.0</td>\n",
       "      <td>142</td>\n",
       "      <td>58</td>\n",
       "      <td>64</td>\n",
       "      <td>58</td>\n",
       "      <td>80</td>\n",
       "      <td>80</td>\n",
       "      <td>65</td>\n",
       "    </tr>\n",
       "  </tbody>\n",
       "</table>\n",
       "</div>"
      ],
      "text/plain": [
       "   id        Name Type 1  Type 2  Generation  height  weight  base_experience  \\\n",
       "0   1   bulbasaur  grass  poison           1     0.7     6.9               64   \n",
       "1   2     ivysaur  grass  poison           1     1.0    13.0              142   \n",
       "2   3    venusaur  grass  poison           1     2.0   100.0              236   \n",
       "3   4  charmander   fire     NaN           1     0.6     8.5               62   \n",
       "4   5  charmeleon   fire     NaN           1     1.1    19.0              142   \n",
       "\n",
       "   hp  attack  defense  speed  special-attack  special-defense  \n",
       "0  45      49       49     45              65               65  \n",
       "1  60      62       63     60              80               80  \n",
       "2  80      82       83     80             100              100  \n",
       "3  39      52       43     65              60               50  \n",
       "4  58      64       58     80              80               65  "
      ]
     },
     "execution_count": 2,
     "metadata": {},
     "output_type": "execute_result"
    }
   ],
   "source": [
    "data = pd.read_csv('pokemon_final.csv')\n",
    "data.head()"
   ]
  },
  {
   "cell_type": "code",
   "execution_count": 3,
   "metadata": {},
   "outputs": [
    {
     "name": "stdout",
     "output_type": "stream",
     "text": [
      "['grass', 'fire', 'water', 'bug', 'normal', 'poison', 'electric', 'ground', 'fairy', 'fighting', 'psychic', 'rock', 'ghost', 'ice', 'dragon', 'dark', 'steel', 'flying']\n",
      "18\n"
     ]
    }
   ],
   "source": [
    "types = []\n",
    "for pType in data['Type 1']:\n",
    "    try:\n",
    "        index = types.index(pType)\n",
    "    except ValueError:\n",
    "        types.append(pType)\n",
    "\n",
    "# for pType in data['Type 2']:\n",
    "#     try:\n",
    "#         index = types.index(pType)\n",
    "#     except ValueError:\n",
    "#         types.append(pType)\n",
    "        \n",
    "        \n",
    "\n",
    "print(types)\n",
    "print(len(types))"
   ]
  },
  {
   "cell_type": "code",
   "execution_count": 4,
   "metadata": {},
   "outputs": [
    {
     "name": "stdout",
     "output_type": "stream",
     "text": [
      "[1, 2, 3, 4, 5, 6, 7]\n"
     ]
    }
   ],
   "source": [
    "gen = []\n",
    "for eachGen in data['Generation']:\n",
    "    try:\n",
    "        index = gen.index(eachGen)\n",
    "    except ValueError:\n",
    "        gen.append(eachGen)\n",
    "        \n",
    "print(gen)"
   ]
  },
  {
   "cell_type": "markdown",
   "metadata": {},
   "source": [
    "## Normalizaton"
   ]
  },
  {
   "cell_type": "code",
   "execution_count": 5,
   "metadata": {},
   "outputs": [
    {
     "data": {
      "text/html": [
       "<div>\n",
       "<style scoped>\n",
       "    .dataframe tbody tr th:only-of-type {\n",
       "        vertical-align: middle;\n",
       "    }\n",
       "\n",
       "    .dataframe tbody tr th {\n",
       "        vertical-align: top;\n",
       "    }\n",
       "\n",
       "    .dataframe thead th {\n",
       "        text-align: right;\n",
       "    }\n",
       "</style>\n",
       "<table border=\"1\" class=\"dataframe\">\n",
       "  <thead>\n",
       "    <tr style=\"text-align: right;\">\n",
       "      <th></th>\n",
       "      <th>id</th>\n",
       "      <th>Name</th>\n",
       "      <th>Type 1</th>\n",
       "      <th>Type 2</th>\n",
       "      <th>Generation</th>\n",
       "      <th>height</th>\n",
       "      <th>weight</th>\n",
       "      <th>base_experience</th>\n",
       "      <th>hp</th>\n",
       "      <th>attack</th>\n",
       "      <th>defense</th>\n",
       "      <th>speed</th>\n",
       "      <th>special-attack</th>\n",
       "      <th>special-defense</th>\n",
       "    </tr>\n",
       "  </thead>\n",
       "  <tbody>\n",
       "    <tr>\n",
       "      <th>0</th>\n",
       "      <td>1</td>\n",
       "      <td>bulbasaur</td>\n",
       "      <td>grass</td>\n",
       "      <td>poison</td>\n",
       "      <td>1</td>\n",
       "      <td>0.7</td>\n",
       "      <td>6.9</td>\n",
       "      <td>64</td>\n",
       "      <td>45</td>\n",
       "      <td>49</td>\n",
       "      <td>49</td>\n",
       "      <td>45</td>\n",
       "      <td>65</td>\n",
       "      <td>65</td>\n",
       "    </tr>\n",
       "    <tr>\n",
       "      <th>1</th>\n",
       "      <td>2</td>\n",
       "      <td>ivysaur</td>\n",
       "      <td>grass</td>\n",
       "      <td>poison</td>\n",
       "      <td>1</td>\n",
       "      <td>1.0</td>\n",
       "      <td>13.0</td>\n",
       "      <td>142</td>\n",
       "      <td>60</td>\n",
       "      <td>62</td>\n",
       "      <td>63</td>\n",
       "      <td>60</td>\n",
       "      <td>80</td>\n",
       "      <td>80</td>\n",
       "    </tr>\n",
       "    <tr>\n",
       "      <th>2</th>\n",
       "      <td>3</td>\n",
       "      <td>venusaur</td>\n",
       "      <td>grass</td>\n",
       "      <td>poison</td>\n",
       "      <td>1</td>\n",
       "      <td>2.0</td>\n",
       "      <td>100.0</td>\n",
       "      <td>236</td>\n",
       "      <td>80</td>\n",
       "      <td>82</td>\n",
       "      <td>83</td>\n",
       "      <td>80</td>\n",
       "      <td>100</td>\n",
       "      <td>100</td>\n",
       "    </tr>\n",
       "    <tr>\n",
       "      <th>3</th>\n",
       "      <td>4</td>\n",
       "      <td>charmander</td>\n",
       "      <td>fire</td>\n",
       "      <td>NaN</td>\n",
       "      <td>1</td>\n",
       "      <td>0.6</td>\n",
       "      <td>8.5</td>\n",
       "      <td>62</td>\n",
       "      <td>39</td>\n",
       "      <td>52</td>\n",
       "      <td>43</td>\n",
       "      <td>65</td>\n",
       "      <td>60</td>\n",
       "      <td>50</td>\n",
       "    </tr>\n",
       "    <tr>\n",
       "      <th>4</th>\n",
       "      <td>5</td>\n",
       "      <td>charmeleon</td>\n",
       "      <td>fire</td>\n",
       "      <td>NaN</td>\n",
       "      <td>1</td>\n",
       "      <td>1.1</td>\n",
       "      <td>19.0</td>\n",
       "      <td>142</td>\n",
       "      <td>58</td>\n",
       "      <td>64</td>\n",
       "      <td>58</td>\n",
       "      <td>80</td>\n",
       "      <td>80</td>\n",
       "      <td>65</td>\n",
       "    </tr>\n",
       "  </tbody>\n",
       "</table>\n",
       "</div>"
      ],
      "text/plain": [
       "   id        Name Type 1  Type 2  Generation  height  weight  base_experience  \\\n",
       "0   1   bulbasaur  grass  poison           1     0.7     6.9               64   \n",
       "1   2     ivysaur  grass  poison           1     1.0    13.0              142   \n",
       "2   3    venusaur  grass  poison           1     2.0   100.0              236   \n",
       "3   4  charmander   fire     NaN           1     0.6     8.5               62   \n",
       "4   5  charmeleon   fire     NaN           1     1.1    19.0              142   \n",
       "\n",
       "   hp  attack  defense  speed  special-attack  special-defense  \n",
       "0  45      49       49     45              65               65  \n",
       "1  60      62       63     60              80               80  \n",
       "2  80      82       83     80             100              100  \n",
       "3  39      52       43     65              60               50  \n",
       "4  58      64       58     80              80               65  "
      ]
     },
     "execution_count": 5,
     "metadata": {},
     "output_type": "execute_result"
    }
   ],
   "source": [
    "newData = data.copy()\n",
    "newData.head()"
   ]
  },
  {
   "cell_type": "markdown",
   "metadata": {},
   "source": [
    "### ColumnAverage"
   ]
  },
  {
   "cell_type": "code",
   "execution_count": 6,
   "metadata": {},
   "outputs": [],
   "source": [
    "variables = ['Generation', 'height', 'weight', 'base_experience', \n",
    "             'hp', 'attack', 'defense', 'speed', 'special-attack', 'special-defense']\n"
   ]
  },
  {
   "cell_type": "code",
   "execution_count": 7,
   "metadata": {},
   "outputs": [
    {
     "data": {
      "text/html": [
       "<div>\n",
       "<style scoped>\n",
       "    .dataframe tbody tr th:only-of-type {\n",
       "        vertical-align: middle;\n",
       "    }\n",
       "\n",
       "    .dataframe tbody tr th {\n",
       "        vertical-align: top;\n",
       "    }\n",
       "\n",
       "    .dataframe thead th {\n",
       "        text-align: right;\n",
       "    }\n",
       "</style>\n",
       "<table border=\"1\" class=\"dataframe\">\n",
       "  <thead>\n",
       "    <tr style=\"text-align: right;\">\n",
       "      <th></th>\n",
       "      <th>id</th>\n",
       "      <th>Name</th>\n",
       "      <th>Type 1</th>\n",
       "      <th>Type 2</th>\n",
       "      <th>Generation</th>\n",
       "      <th>height</th>\n",
       "      <th>weight</th>\n",
       "      <th>base_experience</th>\n",
       "      <th>hp</th>\n",
       "      <th>attack</th>\n",
       "      <th>defense</th>\n",
       "      <th>speed</th>\n",
       "      <th>special-attack</th>\n",
       "      <th>special-defense</th>\n",
       "    </tr>\n",
       "  </thead>\n",
       "  <tbody>\n",
       "    <tr>\n",
       "      <th>0</th>\n",
       "      <td>1</td>\n",
       "      <td>bulbasaur</td>\n",
       "      <td>grass</td>\n",
       "      <td>poison</td>\n",
       "      <td>0.269179</td>\n",
       "      <td>0.602175</td>\n",
       "      <td>0.111703</td>\n",
       "      <td>0.441840</td>\n",
       "      <td>0.654560</td>\n",
       "      <td>0.644002</td>\n",
       "      <td>0.683154</td>\n",
       "      <td>0.683576</td>\n",
       "      <td>0.935427</td>\n",
       "      <td>0.928391</td>\n",
       "    </tr>\n",
       "    <tr>\n",
       "      <th>1</th>\n",
       "      <td>2</td>\n",
       "      <td>ivysaur</td>\n",
       "      <td>grass</td>\n",
       "      <td>poison</td>\n",
       "      <td>0.269179</td>\n",
       "      <td>0.860249</td>\n",
       "      <td>0.210454</td>\n",
       "      <td>0.980332</td>\n",
       "      <td>0.872747</td>\n",
       "      <td>0.814859</td>\n",
       "      <td>0.878341</td>\n",
       "      <td>0.911435</td>\n",
       "      <td>1.151295</td>\n",
       "      <td>1.142635</td>\n",
       "    </tr>\n",
       "    <tr>\n",
       "      <th>2</th>\n",
       "      <td>3</td>\n",
       "      <td>venusaur</td>\n",
       "      <td>grass</td>\n",
       "      <td>poison</td>\n",
       "      <td>0.269179</td>\n",
       "      <td>1.720499</td>\n",
       "      <td>1.618879</td>\n",
       "      <td>1.629285</td>\n",
       "      <td>1.163663</td>\n",
       "      <td>1.077717</td>\n",
       "      <td>1.157179</td>\n",
       "      <td>1.215247</td>\n",
       "      <td>1.439118</td>\n",
       "      <td>1.428293</td>\n",
       "    </tr>\n",
       "    <tr>\n",
       "      <th>3</th>\n",
       "      <td>4</td>\n",
       "      <td>charmander</td>\n",
       "      <td>fire</td>\n",
       "      <td>NaN</td>\n",
       "      <td>0.269179</td>\n",
       "      <td>0.516150</td>\n",
       "      <td>0.137605</td>\n",
       "      <td>0.428032</td>\n",
       "      <td>0.567286</td>\n",
       "      <td>0.683431</td>\n",
       "      <td>0.599502</td>\n",
       "      <td>0.987388</td>\n",
       "      <td>0.863471</td>\n",
       "      <td>0.714147</td>\n",
       "    </tr>\n",
       "    <tr>\n",
       "      <th>4</th>\n",
       "      <td>5</td>\n",
       "      <td>charmeleon</td>\n",
       "      <td>fire</td>\n",
       "      <td>NaN</td>\n",
       "      <td>0.269179</td>\n",
       "      <td>0.946274</td>\n",
       "      <td>0.307587</td>\n",
       "      <td>0.980332</td>\n",
       "      <td>0.843655</td>\n",
       "      <td>0.841145</td>\n",
       "      <td>0.808631</td>\n",
       "      <td>1.215247</td>\n",
       "      <td>1.151295</td>\n",
       "      <td>0.928391</td>\n",
       "    </tr>\n",
       "  </tbody>\n",
       "</table>\n",
       "</div>"
      ],
      "text/plain": [
       "   id        Name Type 1  Type 2  Generation    height    weight  \\\n",
       "0   1   bulbasaur  grass  poison    0.269179  0.602175  0.111703   \n",
       "1   2     ivysaur  grass  poison    0.269179  0.860249  0.210454   \n",
       "2   3    venusaur  grass  poison    0.269179  1.720499  1.618879   \n",
       "3   4  charmander   fire     NaN    0.269179  0.516150  0.137605   \n",
       "4   5  charmeleon   fire     NaN    0.269179  0.946274  0.307587   \n",
       "\n",
       "   base_experience        hp    attack   defense     speed  special-attack  \\\n",
       "0         0.441840  0.654560  0.644002  0.683154  0.683576        0.935427   \n",
       "1         0.980332  0.872747  0.814859  0.878341  0.911435        1.151295   \n",
       "2         1.629285  1.163663  1.077717  1.157179  1.215247        1.439118   \n",
       "3         0.428032  0.567286  0.683431  0.599502  0.987388        0.863471   \n",
       "4         0.980332  0.843655  0.841145  0.808631  1.215247        1.151295   \n",
       "\n",
       "   special-defense  \n",
       "0         0.928391  \n",
       "1         1.142635  \n",
       "2         1.428293  \n",
       "3         0.714147  \n",
       "4         0.928391  "
      ]
     },
     "execution_count": 7,
     "metadata": {},
     "output_type": "execute_result"
    }
   ],
   "source": [
    "for column in variables:\n",
    "    colAvg = 0\n",
    "    newData[column] = data[column].astype('float64')\n",
    "\n",
    "    for value in newData[column]:\n",
    "        colAvg += value\n",
    "    \n",
    "    colAvg = colAvg / newData.shape[0]\n",
    "#     print(colAvg)\n",
    "    for i, row in newData.iterrows():\n",
    "        newData.at[i, column] = newData.at[i, column] / colAvg\n",
    "\n",
    "newData.head()"
   ]
  },
  {
   "cell_type": "markdown",
   "metadata": {},
   "source": [
    "## Euclidean Distance Function"
   ]
  },
  {
   "cell_type": "code",
   "execution_count": 106,
   "metadata": {},
   "outputs": [],
   "source": [
    "def calcEuclid(row1, row2):\n",
    "    eDist = 0\n",
    "    d = []\n",
    "    for i in range(4, 14):\n",
    "        d.append(pow(row1[i] - row2[i], 2))\n",
    "#     d.append(pow(row1[5] - row2[5], 2))\n",
    "#     d.append(pow(row1[6] - row2[6], 2))\n",
    "    for num in d:\n",
    "        eDist += num\n",
    "    return pow(eDist, 1/2)\n"
   ]
  },
  {
   "cell_type": "markdown",
   "metadata": {},
   "source": [
    "## Manhattan Distance Function"
   ]
  },
  {
   "cell_type": "code",
   "execution_count": 9,
   "metadata": {},
   "outputs": [],
   "source": [
    "def calcMan(row1, row2):\n",
    "    man = 0\n",
    "    for i in range (4, 14):\n",
    "        man += abs(row1[i] - row2[i])\n",
    "    return man"
   ]
  },
  {
   "cell_type": "markdown",
   "metadata": {},
   "source": [
    "## KNN Finder"
   ]
  },
  {
   "cell_type": "code",
   "execution_count": 107,
   "metadata": {},
   "outputs": [],
   "source": [
    "# Find k closest rows to the given row via euclidean dist.\n",
    "def kNN(row, removeIndex, k):\n",
    "    # Find closest row and append it to list of k rows\n",
    "    #  remove row from the table\n",
    "    #  repeat until we have top k closest rows\n",
    "\n",
    "    # Create a new table, removing the current tested row\n",
    "    testTable = newData.copy()\n",
    "    testTable = testTable.drop([removeIndex])\n",
    "    \n",
    "    kNear = []\n",
    "    while (len(kNear) < k):\n",
    "        currMin = 100.0\n",
    "        nearRow = None\n",
    "        minIndex = 0\n",
    "        for i, currRow in testTable.iterrows():\n",
    "            eDist = calcEuclid(row, currRow)\n",
    "            if (eDist < currMin):\n",
    "                currMin = eDist\n",
    "                nearRow = currRow\n",
    "                minIndex = i\n",
    "                \n",
    "        # Drop row and append to kNear\n",
    "        kNear.append((nearRow, currMin))\n",
    "#         print(testTable.index[minIndex])\n",
    "#         print(testTable.iloc[minIndex])\n",
    "        testTable = testTable.drop(minIndex)\n",
    "    \n",
    "    # list = [(pokemon, distance)]\n",
    "    # list[indexInList][0 -> pokemon, 1 -> distance]\n",
    "    return kNear\n",
    "    \n",
    "\n",
    "# test = kNN(newData.iloc[0], 5)\n",
    "# print(newData.iloc[0])\n",
    "# # for n in test:\n",
    "# #     print(n)"
   ]
  },
  {
   "cell_type": "markdown",
   "metadata": {},
   "source": [
    "## Classification Calculation"
   ]
  },
  {
   "cell_type": "code",
   "execution_count": 11,
   "metadata": {},
   "outputs": [],
   "source": [
    "def typeClass(row, guess):\n",
    "    if (row['Type 1'] == guess or row['Type 2'] == guess):\n",
    "        return True\n",
    "    return False"
   ]
  },
  {
   "cell_type": "code",
   "execution_count": 12,
   "metadata": {},
   "outputs": [],
   "source": [
    "# Calculate classification based on closest neighbor Type 1\n",
    "def classifyNearestNeighbor(row, neighbors):\n",
    "    if (neighbors[0][0]['Type 1'] == row['Type 1'] or neighbors[0][0]['Type 1'] == row['Type 2']):\n",
    "        return 1\n",
    "    return 0"
   ]
  },
  {
   "cell_type": "code",
   "execution_count": 38,
   "metadata": {},
   "outputs": [],
   "source": [
    "# Calculate classification based on weighting scheme of 1/d\n",
    "def classifyPopularType(row, neighbors):\n",
    "    typeD = {}\n",
    "    for pokemon in neighbors:\n",
    "        if pokemon[0]['Type 1'] not in typeD:\n",
    "            typeD[pokemon[0]['Type 1']] = 1\n",
    "        else:\n",
    "            typeD[pokemon[0]['Type 1']] += 1\n",
    "            \n",
    "        if pokemon[0]['Type 2'] not in typeD:\n",
    "            typeD[pokemon[0]['Type 2']] = 1\n",
    "        else:\n",
    "            typeD[pokemon[0]['Type 2']] += 1\n",
    "    \n",
    "    mostCommon = ''\n",
    "    high = 0\n",
    "    for x, y in typeD.items():\n",
    "        if y > high:\n",
    "            mostCommon = x\n",
    "            high = y\n",
    "    return mostCommon\n"
   ]
  },
  {
   "cell_type": "markdown",
   "metadata": {},
   "source": [
    "## Tests"
   ]
  },
  {
   "cell_type": "code",
   "execution_count": null,
   "metadata": {},
   "outputs": [],
   "source": [
    "testIndex = 0\n",
    "testK = 1\n",
    "neighbors = kNN(newData.iloc[testIndex], testIndex, testK)\n",
    "# print(neighbors)\n",
    "classType = classifyPopularType(newData.iloc[testIndex], neighbors)\n",
    "print(classType)\n",
    "print(typeClass(newData.iloc[testIndex], classType))"
   ]
  },
  {
   "cell_type": "markdown",
   "metadata": {},
   "source": [
    "### Euclidean Distance Data"
   ]
  },
  {
   "cell_type": "code",
   "execution_count": 110,
   "metadata": {},
   "outputs": [
    {
     "name": "stdout",
     "output_type": "stream",
     "text": [
      "{'grass': 13, 'fire': 12, 'bug': 15, 'normal': 30, 'electric': 7, 'poison': 9, 'ground': 8, 'water': 24, 'fighting': 8, 'rock': 9, 'psychic': 7, 'steel': 2, 'dragon': 5, 'ice': 2, 'dark': 2, 'flying': 2, 'fairy': 3, 'ghost': 1}\n",
      "k: 1 - 0.1970260223048327\n",
      "{'grass': 10, 'fire': 9, 'bug': 9, 'normal': 24, 'electric': 5, 'poison': 7, 'psychic': 7, 'ground': 8, 'water': 19, 'fighting': 8, 'rock': 7, 'flying': 8, 'steel': 4, 'dragon': 4, 'dark': 2, 'fairy': 3, 'ghost': 1, 'ice': 1}\n",
      "k: 2 - 0.16852540272614622\n",
      "{'bug': 3, 'normal': 20, 'poison': 4, 'fire': 3, 'psychic': 11, 'grass': 5, 'ground': 9, 'water': 12, 'fighting': 6, 'rock': 8, 'flying': 15, 'steel': 5, 'dragon': 4, 'dark': 2, 'fairy': 4, 'ice': 1, 'electric': 3}\n",
      "k: 3 - 0.14250309789343246\n",
      "{'bug': 2, 'normal': 16, 'poison': 3, 'psychic': 8, 'ground': 8, 'water': 12, 'fighting': 5, 'flying': 13, 'rock': 7, 'steel': 4, 'dragon': 5, 'grass': 4, 'dark': 1, 'fairy': 4, 'fire': 1, 'electric': 1}\n",
      "k: 4 - 0.11648079306071871\n",
      "{'bug': 3, 'normal': 13, 'poison': 3, 'psychic': 10, 'ground': 8, 'water': 11, 'grass': 8, 'fighting': 5, 'rock': 6, 'flying': 13, 'fire': 3, 'steel': 4, 'dragon': 7, 'fairy': 3, 'ghost': 1, 'ice': 1, 'electric': 1}\n",
      "k: 5 - 0.12391573729863693\n",
      "{'normal': 11, 'poison': 3, 'psychic': 8, 'ground': 7, 'water': 7, 'grass': 6, 'fighting': 3, 'flying': 12, 'bug': 1, 'rock': 4, 'steel': 4, 'dragon': 6, 'fire': 2, 'fairy': 3, 'ghost': 1, 'ice': 1, 'electric': 1}\n",
      "k: 6 - 0.09913258983890955\n",
      "{'bug': 2, 'poison': 2, 'psychic': 8, 'ground': 7, 'water': 9, 'fighting': 4, 'flying': 10, 'normal': 11, 'fire': 1, 'grass': 9, 'rock': 3, 'steel': 5, 'dragon': 5, 'fairy': 5}\n",
      "k: 7 - 0.10037174721189591\n",
      "{'psychic': 8, 'poison': 1, 'ground': 7, 'water': 7, 'flying': 8, 'normal': 12, 'bug': 1, 'rock': 4, 'fire': 1, 'grass': 7, 'steel': 5, 'dragon': 5, 'ghost': 1, 'fairy': 3, 'dark': 1, 'fighting': 1}\n",
      "k: 8 - 0.08921933085501858\n",
      "{'psychic': 9, 'rock': 4, 'water': 7, 'flying': 8, 'normal': 9, 'grass': 8, 'ground': 6, 'steel': 5, 'dragon': 5, 'ghost': 1, 'dark': 1, 'fire': 1, 'fairy': 3, 'fighting': 1}\n",
      "k: 9 - 0.08426270136307311\n",
      "{'bug': 1, 'psychic': 7, 'poison': 1, 'rock': 5, 'flying': 8, 'water': 5, 'normal': 11, 'ground': 6, 'steel': 5, 'grass': 4, 'dragon': 5, 'ghost': 1, 'dark': 1, 'fairy': 3, 'ice': 1, 'fighting': 1}\n",
      "k: 10 - 0.080545229244114\n"
     ]
    }
   ],
   "source": [
    "kVal = 1\n",
    "accuracies = []\n",
    "typeAccuracy = []\n",
    "\n",
    "while kVal < 11:\n",
    "    accuracy = 0\n",
    "    currentTypeAccuracy = {}\n",
    "    for currentIndex, currRow in newData.iterrows():\n",
    "        neighbors = kNN(currRow, currentIndex, kVal)\n",
    "        classType = classifyPopularType(currRow, neighbors)\n",
    "        isCorrect = typeClass(currRow, classType)\n",
    "        if (isCorrect):\n",
    "            accuracy += 1\n",
    "            if (classType not in currentTypeAccuracy):\n",
    "                currentTypeAccuracy[classType] = 1\n",
    "            else:\n",
    "                currentTypeAccuracy[classType] += 1\n",
    "\n",
    "    typeAccuracy.append(currentTypeAccuracy)\n",
    "    accuracies.append(accuracy / 807)\n",
    "    print(currentTypeAccuracy)\n",
    "    print('k:', kVal, '-', accuracy / 807)\n",
    "    kVal += 1"
   ]
  },
  {
   "cell_type": "code",
   "execution_count": 111,
   "metadata": {},
   "outputs": [
    {
     "data": {
      "text/plain": [
       "[19.702602230483272,\n",
       " 16.852540272614622,\n",
       " 14.250309789343246,\n",
       " 11.648079306071871,\n",
       " 12.391573729863694,\n",
       " 9.913258983890955,\n",
       " 10.037174721189592,\n",
       " 8.921933085501859,\n",
       " 8.426270136307311,\n",
       " 8.054522924411401]"
      ]
     },
     "execution_count": 111,
     "metadata": {},
     "output_type": "execute_result"
    }
   ],
   "source": [
    "x = [1, 2, 3, 4, 5, 6, 7, 8, 9, 10]\n",
    "y = []\n",
    "for data in accuracies:\n",
    "    y.append(data * 100)\n",
    "y"
   ]
  },
  {
   "cell_type": "code",
   "execution_count": 112,
   "metadata": {},
   "outputs": [
    {
     "data": {
      "image/png": "[encoded data removed]",
      "text/plain": [
       "<Figure size 432x288 with 1 Axes>"
      ]
     },
     "metadata": {
      "needs_background": "light"
     },
     "output_type": "display_data"
    }
   ],
   "source": [
    "plt.plot(x, y)\n",
    "plt.xlim(1, 10)\n",
    "plt.xlabel('k value')\n",
    "plt.ylabel('accuracy %')\n",
    "plt.title('Euclidean Distance')\n",
    "plt.show()"
   ]
  },
  {
   "cell_type": "markdown",
   "metadata": {},
   "source": [
    "### Manhattan Distance Data"
   ]
  },
  {
   "cell_type": "code",
   "execution_count": 95,
   "metadata": {},
   "outputs": [
    {
     "name": "stdout",
     "output_type": "stream",
     "text": [
      "k: 1 - 0.20446096654275092\n",
      "k: 2 - 0.1771995043370508\n",
      "k: 3 - 0.1524163568773234\n",
      "k: 4 - 0.15117719950433706\n",
      "k: 5 - 0.137546468401487\n",
      "k: 6 - 0.12019826517967781\n",
      "k: 7 - 0.11152416356877323\n",
      "k: 8 - 0.10161090458488228\n",
      "k: 9 - 0.09417596034696406\n",
      "k: 10 - 0.0768277571251549\n"
     ]
    }
   ],
   "source": [
    "kVal = 1\n",
    "accuraciesManhattan = []\n",
    "\n",
    "while kVal < 11:\n",
    "    accuracy = 0\n",
    "    for currentIndex, currRow in newData.iterrows():\n",
    "        neighbors = kNN(currRow, currentIndex, kVal)\n",
    "        classType = classifyPopularType(currRow, neighbors)\n",
    "        if (typeClass(currRow, classType)):\n",
    "            accuracy += 1\n",
    "            \n",
    "    accuraciesManhattan.append(accuracy / 807)\n",
    "    print('k:', kVal, '-', accuracy / 807)\n",
    "    kVal += 1"
   ]
  },
  {
   "cell_type": "code",
   "execution_count": 100,
   "metadata": {},
   "outputs": [
    {
     "name": "stdout",
     "output_type": "stream",
     "text": [
      "[20.44609665427509, 17.71995043370508, 15.241635687732341, 15.117719950433706, 13.754646840148698, 12.01982651796778, 11.152416356877323, 10.161090458488228, 9.417596034696405, 7.68277571251549]\n"
     ]
    }
   ],
   "source": [
    "xM = [1, 2, 3, 4, 5, 6, 7, 8, 9, 10]\n",
    "yM = []\n",
    "for data in accuraciesManhattan:\n",
    "    yM.append(data * 100)\n",
    "print(yM)"
   ]
  },
  {
   "cell_type": "code",
   "execution_count": 103,
   "metadata": {},
   "outputs": [
    {
     "data": {
      "image/png": "[encoded data removed]",
      "text/plain": [
       "<Figure size 432x288 with 1 Axes>"
      ]
     },
     "metadata": {
      "needs_background": "light"
     },
     "output_type": "display_data"
    }
   ],
   "source": [
    "plt.plot(xM, yM)\n",
    "plt.xlim(1, 10)\n",
    "plt.xlabel('k value')\n",
    "plt.ylabel('accuracy %')\n",
    "plt.title('Manhattan Distance')\n",
    "plt.show()"
   ]
  },
  {
   "cell_type": "markdown",
   "metadata": {},
   "source": [
    "## Accuracy by Type"
   ]
  },
  {
   "cell_type": "code",
   "execution_count": 113,
   "metadata": {},
   "outputs": [
    {
     "name": "stdout",
     "output_type": "stream",
     "text": [
      "[{'grass': 13, 'fire': 12, 'bug': 15, 'normal': 30, 'electric': 7, 'poison': 9, 'ground': 8, 'water': 24, 'fighting': 8, 'rock': 9, 'psychic': 7, 'steel': 2, 'dragon': 5, 'ice': 2, 'dark': 2, 'flying': 2, 'fairy': 3, 'ghost': 1}, {'grass': 10, 'fire': 9, 'bug': 9, 'normal': 24, 'electric': 5, 'poison': 7, 'psychic': 7, 'ground': 8, 'water': 19, 'fighting': 8, 'rock': 7, 'flying': 8, 'steel': 4, 'dragon': 4, 'dark': 2, 'fairy': 3, 'ghost': 1, 'ice': 1}, {'bug': 3, 'normal': 20, 'poison': 4, 'fire': 3, 'psychic': 11, 'grass': 5, 'ground': 9, 'water': 12, 'fighting': 6, 'rock': 8, 'flying': 15, 'steel': 5, 'dragon': 4, 'dark': 2, 'fairy': 4, 'ice': 1, 'electric': 3}, {'bug': 2, 'normal': 16, 'poison': 3, 'psychic': 8, 'ground': 8, 'water': 12, 'fighting': 5, 'flying': 13, 'rock': 7, 'steel': 4, 'dragon': 5, 'grass': 4, 'dark': 1, 'fairy': 4, 'fire': 1, 'electric': 1}, {'bug': 3, 'normal': 13, 'poison': 3, 'psychic': 10, 'ground': 8, 'water': 11, 'grass': 8, 'fighting': 5, 'rock': 6, 'flying': 13, 'fire': 3, 'steel': 4, 'dragon': 7, 'fairy': 3, 'ghost': 1, 'ice': 1, 'electric': 1}, {'normal': 11, 'poison': 3, 'psychic': 8, 'ground': 7, 'water': 7, 'grass': 6, 'fighting': 3, 'flying': 12, 'bug': 1, 'rock': 4, 'steel': 4, 'dragon': 6, 'fire': 2, 'fairy': 3, 'ghost': 1, 'ice': 1, 'electric': 1}, {'bug': 2, 'poison': 2, 'psychic': 8, 'ground': 7, 'water': 9, 'fighting': 4, 'flying': 10, 'normal': 11, 'fire': 1, 'grass': 9, 'rock': 3, 'steel': 5, 'dragon': 5, 'fairy': 5}, {'psychic': 8, 'poison': 1, 'ground': 7, 'water': 7, 'flying': 8, 'normal': 12, 'bug': 1, 'rock': 4, 'fire': 1, 'grass': 7, 'steel': 5, 'dragon': 5, 'ghost': 1, 'fairy': 3, 'dark': 1, 'fighting': 1}, {'psychic': 9, 'rock': 4, 'water': 7, 'flying': 8, 'normal': 9, 'grass': 8, 'ground': 6, 'steel': 5, 'dragon': 5, 'ghost': 1, 'dark': 1, 'fire': 1, 'fairy': 3, 'fighting': 1}, {'bug': 1, 'psychic': 7, 'poison': 1, 'rock': 5, 'flying': 8, 'water': 5, 'normal': 11, 'ground': 6, 'steel': 5, 'grass': 4, 'dragon': 5, 'ghost': 1, 'dark': 1, 'fairy': 3, 'ice': 1, 'fighting': 1}]\n"
     ]
    }
   ],
   "source": [
    "print(typeAccuracy)"
   ]
  },
  {
   "cell_type": "code",
   "execution_count": 115,
   "metadata": {},
   "outputs": [
    {
     "name": "stdout",
     "output_type": "stream",
     "text": [
      "{'grass': 97, 'poison': 66, 'fire': 64, nan: 402, 'flying': 98, 'water': 131, 'bug': 77, 'normal': 109, 'electric': 48, 'ground': 64, 'fairy': 47, 'fighting': 54, 'psychic': 82, 'rock': 60, 'steel': 47, 'ice': 34, 'ghost': 43, 'dragon': 45, 'dark': 46}\n"
     ]
    }
   ],
   "source": [
    "numClasses = {}\n",
    "for i, row in newData.iterrows():\n",
    "    if row['Type 1'] not in numClasses:\n",
    "        numClasses[row['Type 1']] = 1\n",
    "    else:\n",
    "        numClasses[row['Type 1']] += 1\n",
    "        \n",
    "    if row['Type 2'] not in numClasses:\n",
    "        numClasses[row['Type 2']] = 1\n",
    "    else:\n",
    "        numClasses[row['Type 2']] += 1\n",
    "print(numClasses)"
   ]
  },
  {
   "cell_type": "code",
   "execution_count": 137,
   "metadata": {},
   "outputs": [
    {
     "data": {
      "text/plain": [
       "[{'grass': 13.402061855670103,\n",
       "  'fire': 18.75,\n",
       "  'bug': 19.480519480519483,\n",
       "  'normal': 27.522935779816514,\n",
       "  'electric': 14.583333333333334,\n",
       "  'poison': 13.636363636363635,\n",
       "  'ground': 12.5,\n",
       "  'water': 18.3206106870229,\n",
       "  'fighting': 14.814814814814813,\n",
       "  'rock': 15.0,\n",
       "  'psychic': 8.536585365853659,\n",
       "  'steel': 4.25531914893617,\n",
       "  'dragon': 11.11111111111111,\n",
       "  'ice': 5.88235294117647,\n",
       "  'dark': 4.3478260869565215,\n",
       "  'flying': 2.0408163265306123,\n",
       "  'fairy': 6.382978723404255,\n",
       "  'ghost': 2.3255813953488373},\n",
       " {'grass': 10.309278350515463,\n",
       "  'fire': 14.0625,\n",
       "  'bug': 11.688311688311687,\n",
       "  'normal': 22.018348623853214,\n",
       "  'electric': 10.416666666666668,\n",
       "  'poison': 10.606060606060606,\n",
       "  'psychic': 8.536585365853659,\n",
       "  'ground': 12.5,\n",
       "  'water': 14.50381679389313,\n",
       "  'fighting': 14.814814814814813,\n",
       "  'rock': 11.666666666666666,\n",
       "  'flying': 8.16326530612245,\n",
       "  'steel': 8.51063829787234,\n",
       "  'dragon': 8.88888888888889,\n",
       "  'dark': 4.3478260869565215,\n",
       "  'fairy': 6.382978723404255,\n",
       "  'ghost': 2.3255813953488373,\n",
       "  'ice': 2.941176470588235},\n",
       " {'bug': 3.896103896103896,\n",
       "  'normal': 18.34862385321101,\n",
       "  'poison': 6.0606060606060606,\n",
       "  'fire': 4.6875,\n",
       "  'psychic': 13.414634146341465,\n",
       "  'grass': 5.154639175257731,\n",
       "  'ground': 14.0625,\n",
       "  'water': 9.16030534351145,\n",
       "  'fighting': 11.11111111111111,\n",
       "  'rock': 13.333333333333334,\n",
       "  'flying': 15.306122448979592,\n",
       "  'steel': 10.638297872340425,\n",
       "  'dragon': 8.88888888888889,\n",
       "  'dark': 4.3478260869565215,\n",
       "  'fairy': 8.51063829787234,\n",
       "  'ice': 2.941176470588235,\n",
       "  'electric': 6.25},\n",
       " {'bug': 2.5974025974025974,\n",
       "  'normal': 14.678899082568808,\n",
       "  'poison': 4.545454545454546,\n",
       "  'psychic': 9.75609756097561,\n",
       "  'ground': 12.5,\n",
       "  'water': 9.16030534351145,\n",
       "  'fighting': 9.25925925925926,\n",
       "  'flying': 13.26530612244898,\n",
       "  'rock': 11.666666666666666,\n",
       "  'steel': 8.51063829787234,\n",
       "  'dragon': 11.11111111111111,\n",
       "  'grass': 4.123711340206185,\n",
       "  'dark': 2.1739130434782608,\n",
       "  'fairy': 8.51063829787234,\n",
       "  'fire': 1.5625,\n",
       "  'electric': 2.083333333333333},\n",
       " {'bug': 3.896103896103896,\n",
       "  'normal': 11.926605504587156,\n",
       "  'poison': 4.545454545454546,\n",
       "  'psychic': 12.195121951219512,\n",
       "  'ground': 12.5,\n",
       "  'water': 8.396946564885496,\n",
       "  'grass': 8.24742268041237,\n",
       "  'fighting': 9.25925925925926,\n",
       "  'rock': 10.0,\n",
       "  'flying': 13.26530612244898,\n",
       "  'fire': 4.6875,\n",
       "  'steel': 8.51063829787234,\n",
       "  'dragon': 15.555555555555555,\n",
       "  'fairy': 6.382978723404255,\n",
       "  'ghost': 2.3255813953488373,\n",
       "  'ice': 2.941176470588235,\n",
       "  'electric': 2.083333333333333},\n",
       " {'normal': 10.091743119266056,\n",
       "  'poison': 4.545454545454546,\n",
       "  'psychic': 9.75609756097561,\n",
       "  'ground': 10.9375,\n",
       "  'water': 5.343511450381679,\n",
       "  'grass': 6.185567010309279,\n",
       "  'fighting': 5.555555555555555,\n",
       "  'flying': 12.244897959183673,\n",
       "  'bug': 1.2987012987012987,\n",
       "  'rock': 6.666666666666667,\n",
       "  'steel': 8.51063829787234,\n",
       "  'dragon': 13.333333333333334,\n",
       "  'fire': 3.125,\n",
       "  'fairy': 6.382978723404255,\n",
       "  'ghost': 2.3255813953488373,\n",
       "  'ice': 2.941176470588235,\n",
       "  'electric': 2.083333333333333},\n",
       " {'bug': 2.5974025974025974,\n",
       "  'poison': 3.0303030303030303,\n",
       "  'psychic': 9.75609756097561,\n",
       "  'ground': 10.9375,\n",
       "  'water': 6.870229007633588,\n",
       "  'fighting': 7.4074074074074066,\n",
       "  'flying': 10.204081632653061,\n",
       "  'normal': 10.091743119266056,\n",
       "  'fire': 1.5625,\n",
       "  'grass': 9.278350515463918,\n",
       "  'rock': 5.0,\n",
       "  'steel': 10.638297872340425,\n",
       "  'dragon': 11.11111111111111,\n",
       "  'fairy': 10.638297872340425},\n",
       " {'psychic': 9.75609756097561,\n",
       "  'poison': 1.5151515151515151,\n",
       "  'ground': 10.9375,\n",
       "  'water': 5.343511450381679,\n",
       "  'flying': 8.16326530612245,\n",
       "  'normal': 11.009174311926607,\n",
       "  'bug': 1.2987012987012987,\n",
       "  'rock': 6.666666666666667,\n",
       "  'fire': 1.5625,\n",
       "  'grass': 7.216494845360824,\n",
       "  'steel': 10.638297872340425,\n",
       "  'dragon': 11.11111111111111,\n",
       "  'ghost': 2.3255813953488373,\n",
       "  'fairy': 6.382978723404255,\n",
       "  'dark': 2.1739130434782608,\n",
       "  'fighting': 1.8518518518518516},\n",
       " {'psychic': 10.975609756097562,\n",
       "  'rock': 6.666666666666667,\n",
       "  'water': 5.343511450381679,\n",
       "  'flying': 8.16326530612245,\n",
       "  'normal': 8.256880733944955,\n",
       "  'grass': 8.24742268041237,\n",
       "  'ground': 9.375,\n",
       "  'steel': 10.638297872340425,\n",
       "  'dragon': 11.11111111111111,\n",
       "  'ghost': 2.3255813953488373,\n",
       "  'dark': 2.1739130434782608,\n",
       "  'fire': 1.5625,\n",
       "  'fairy': 6.382978723404255,\n",
       "  'fighting': 1.8518518518518516},\n",
       " {'bug': 1.2987012987012987,\n",
       "  'psychic': 8.536585365853659,\n",
       "  'poison': 1.5151515151515151,\n",
       "  'rock': 8.333333333333332,\n",
       "  'flying': 8.16326530612245,\n",
       "  'water': 3.816793893129771,\n",
       "  'normal': 10.091743119266056,\n",
       "  'ground': 9.375,\n",
       "  'steel': 10.638297872340425,\n",
       "  'grass': 4.123711340206185,\n",
       "  'dragon': 11.11111111111111,\n",
       "  'ghost': 2.3255813953488373,\n",
       "  'dark': 2.1739130434782608,\n",
       "  'fairy': 6.382978723404255,\n",
       "  'ice': 2.941176470588235,\n",
       "  'fighting': 1.8518518518518516}]"
      ]
     },
     "execution_count": 137,
     "metadata": {},
     "output_type": "execute_result"
    }
   ],
   "source": [
    "newTypeAccuracy = copy.deepcopy(typeAccuracy)\n",
    "\n",
    "for k in newTypeAccuracy:\n",
    "    for key in numClasses.keys():\n",
    "        if key in k:\n",
    "            k[key] = (k[key] / numClasses[key]) * 100\n",
    "\n",
    "newTypeAccuracy"
   ]
  },
  {
   "cell_type": "code",
   "execution_count": 136,
   "metadata": {},
   "outputs": [
    {
     "name": "stdout",
     "output_type": "stream",
     "text": [
      "Num types not classified at all: 0\n",
      "Num types not classified at all: 0\n",
      "Num types not classified at all: 1\n",
      "Num types not classified at all: 2\n",
      "Num types not classified at all: 1\n",
      "Num types not classified at all: 1\n",
      "Num types not classified at all: 4\n",
      "Num types not classified at all: 2\n",
      "Num types not classified at all: 4\n",
      "Num types not classified at all: 2\n"
     ]
    }
   ],
   "source": [
    "for k in newTypeAccuracy:\n",
    "    print('Num types not classified at all:', 18 - len(k.keys()))"
   ]
  },
  {
   "cell_type": "code",
   "execution_count": 157,
   "metadata": {},
   "outputs": [
    {
     "data": {
      "image/png": "[encoded data removed]",
      "text/plain": [
       "<Figure size 432x288 with 1 Axes>"
      ]
     },
     "metadata": {
      "needs_background": "light"
     },
     "output_type": "display_data"
    }
   ],
   "source": [
    "plt.barh(list(newTypeAccuracy[0].keys()), list(newTypeAccuracy[0].values()), align='center')\n",
    "plt.ylabel('Pokemon Type')\n",
    "plt.xlabel('Classification Accuracy - %')\n",
    "plt.title('Classification Accuracy by Type')\n",
    "plt.show()"
   ]
  },
  {
   "cell_type": "code",
   "execution_count": null,
   "metadata": {},
   "outputs": [],
   "source": []
  }
 ],
 "metadata": {
  "kernelspec": {
   "display_name": "Python 3",
   "language": "python",
   "name": "python3"
  },
  "language_info": {
   "codemirror_mode": {
    "name": "ipython",
    "version": 3
   },
   "file_extension": ".py",
   "mimetype": "text/x-python",
   "name": "python",
   "nbconvert_exporter": "python",
   "pygments_lexer": "ipython3",
   "version": "3.7.0"
  }
 },
 "nbformat": 4,
 "nbformat_minor": 2
}
